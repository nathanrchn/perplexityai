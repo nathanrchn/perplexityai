{
 "cells": [
  {
   "cell_type": "markdown",
   "source": [
    "> **Note:** This notebook is under construction. Please check back later for more updates."
   ],
   "metadata": {
    "collapsed": false
   },
   "id": "a8b44bc3b6a497e7"
  },
  {
   "cell_type": "code",
   "outputs": [],
   "source": [],
   "metadata": {
    "collapsed": false,
    "ExecuteTime": {
     "end_time": "2023-12-25T09:54:42.628045Z",
     "start_time": "2023-12-25T09:54:42.599028Z"
    }
   },
   "id": "1dab7d395ee03da0",
   "execution_count": 2
  },
  {
   "cell_type": "markdown",
   "source": [
    "# Advanced Usage\n",
    "With the new version, you can now sign in to your account and use the api to its full potential.\n",
    "For now the only provider supported is email, but more will be added in the future.\n",
    "```python\n",
    "from perplexity import Perplexity\n",
    "\n",
    "perplexity = Perplexity(\"example@email.com\")\n",
    "```\n",
    "And then you will receive an email from Perplexity AI. Copy the link associated with the `Sign in` button in the middle of the email.\n",
    "The program will create a new file: `.perplexity_session` for keeping the session cookies.\n"
   ],
   "metadata": {
    "collapsed": false
   },
   "id": "cc57794a0c28278c"
  },
  {
   "cell_type": "markdown",
   "source": [
    "Основываясь на новой версии, вы можете войти в свой аккаунт и использовать api её на полную мощность. Но надо убрать ручную регистрацию. Для этого надо сделать клиент, который будет проверять почточный ящик на наличие письма с ссылкой для входа. После этого надо будет перейти по ссылке и получить куки."
   ],
   "metadata": {
    "collapsed": false
   },
   "id": "830b5c1a446d0c2b"
  },
  {
   "cell_type": "markdown",
   "source": [
    "Для создания скрипта, который будет логиниться в Gmail и проверять URL от helpdesk'а с коллбэком, можно использовать Python и библиотеку `imaplib`. Вам нужно будет включить доступ по IMAP в настройках вашего аккаунта Gmail и, возможно, создать специальный пароль приложения, если у вас включена двухфакторная аутентификация[2][6][14].\n",
    "\n",
    "Вот пример скрипта на Python, который логинится в Gmail, ищет непрочитанные письма и извлекает из них URL:\n",
    "\n",
    "```python\n",
    "import imaplib\n",
    "import email\n",
    "from email.header import decode_header\n",
    "import re\n",
    "\n",
    "# учетные данные для входа в Gmail\n",
    "username = \"your_email@gmail.com\"\n",
    "password = \"your_password\"\n",
    "\n",
    "# создаем экземпляр IMAP4_SSL класса\n",
    "mail = imaplib.IMAP4_SSL(\"imap.gmail.com\")\n",
    "\n",
    "# аутентификация\n",
    "mail.login(username, password)\n",
    "\n",
    "# выбираем почтовый ящик (в данном случае \"inbox\")\n",
    "mail.select(\"inbox\")\n",
    "\n",
    "# ищем письма (все непрочитанные письма)\n",
    "status, messages = mail.search(None, 'UNSEEN')\n",
    "\n",
    "# преобразуем messages в список ID писем\n",
    "messages = messages[0].split(b' ')\n",
    "\n",
    "# регулярное выражение для поиска URL\n",
    "url_pattern = re.compile(r'https?://\\S+')\n",
    "\n",
    "# проходимся по каждому письму\n",
    "for mail_id in messages:\n",
    "    # получаем данные письма\n",
    "    _, msg = mail.fetch(mail_id, '(RFC822)')\n",
    "\n",
    "    # парсим данные письма\n",
    "    for response in msg:\n",
    "        if isinstance(response, tuple):\n",
    "            # парсим байтовый объект письма\n",
    "            msg = email.message_from_bytes(response[1])\n",
    "            \n",
    "            # декодируем тему письма\n",
    "            subject, encoding = decode_header(msg[\"Subject\"])[0]\n",
    "            if isinstance(subject, bytes):\n",
    "                subject = subject.decode(encoding)\n",
    "            \n",
    "            # проверяем, содержит ли тема письма ключевое слово для коллбэка\n",
    "            if \"callback\" in subject.lower():\n",
    "                # если содержит, то извлекаем URL\n",
    "                if msg.is_multipart():\n",
    "                    for part in msg.walk():\n",
    "                        content_type = part.get_content_type()\n",
    "                        if content_type == \"text/html\":\n",
    "                            body = part.get_payload(decode=True).decode()\n",
    "                            # ищем URL в теле письма\n",
    "                            urls = url_pattern.findall(body)\n",
    "                            for url in urls:\n",
    "                                print(url)\n",
    "                else:\n",
    "                    # если письмо не состоит из нескольких частей\n",
    "                    content_type = msg.get_content_type()\n",
    "                    if content_type == \"text/html\":\n",
    "                        body = msg.get_payload(decode=True).decode()\n",
    "                        # ищем URL в теле письма\n",
    "                        urls = url_pattern.findall(body)\n",
    "                        for url in urls:\n",
    "                            print(url)\n",
    "\n",
    "# закрываем соединение и выходим\n",
    "mail.close()\n",
    "mail.logout()\n",
    "```\n",
    "\n",
    "Этот скрипт использует регулярное выражение для поиска URL в HTML-содержимом письма. Обратите внимание, что вам нужно будет заменить `\"your_email@gmail.com\"` и `\"your_password\"` на ваши реальные учетные данные Gmail. Также, если в письме используется другой тип контента (не \"text/html\"), вам нужно будет соответствующим образом изменить скрипт.\n",
    "\n",
    "Пожалуйста, убедитесь, что вы следуете всем требованиям безопасности и конфиденциальности при работе с электронной почтой и личными данными.\n",
    "\n",
    "Citations:\n",
    "[1] https://github.com/nathanrchn/perplexityai\n",
    "[2] https://support.google.com/mail/thread/184123470/cannot-login-to-gmail-through-imap-in-python-something-to-do-with-less-secure-apps-update?hl=en\n",
    "[3] https://stackoverflow.com/questions/1792366/extract-urls-out-of-email-in-python\n",
    "[4] https://stackoverflow.com/questions/3362600/how-to-send-email-attachments\n",
    "[5] https://stackoverflow.com/questions/38417077/how-to-detect-url-callback-request\n",
    "[6] https://stackoverflow.com/questions/70188644/gmail-login-error-with-the-help-of-imaplib-in-python\n",
    "[7] https://youtube.com/watch?v=u3XVKM3ZgNg\n",
    "[8] https://realpython.com/python-send-email/\n",
    "[9] https://blog.perplexity.ai/blog/introducing-pplx-api\n",
    "[10] https://docs.python.org/3/library/imaplib.html\n",
    "[11] https://www.geeksforgeeks.org/python-extract-domain-name-from-email-address/\n",
    "[12] https://betterprogramming.pub/how-to-send-an-email-with-attachments-in-python-abe3b957ecf3?gi=2d1c686f6691\n",
    "[13] https://pplx-res.cloudinary.com/image/upload/t_fit/v1703496779/user_uploads/nsxalkcvv/image.jpg\n",
    "[14] https://www.reddit.com/r/learnprogramming/comments/unzzaq/how_to_add_gmail_imap_authentication_python/?rdt=58841\n",
    "[15] https://forum.uipath.com/t/get-hyperlink-address-from-an-email-body/6060\n",
    "[16] https://pythonalgos.com/2021/11/02/how-to-send-an-email-with-an-attachment-in-python/\n",
    "[17] https://gist.github.com/jasonrdsouza/1674794\n",
    "[18] https://www.tutorialspoint.com/python_text_processing/python_extract_url_from_text.htm\n",
    "[19] https://mailtrap.io/blog/python-send-email/\n",
    "[20] https://gist.github.com/morenoh149/f2ed47dc8c57bacf5bc27a899c642d6a\n",
    "[21] https://forum.keyboardmaestro.com/t/how-do-i-extract-urls-from-emails-and-open-in-selected-browser/16709\n",
    "[22] https://youtube.com/watch?v=V6hQfGxlPgw\n",
    "[23] http://www.learningaboutelectronics.com/Articles/How-to-access-IMAP-in-gmail-with-Python.php\n",
    "[24] https://faun.pub/extract-all-website-links-in-python-48f07619db95?gi=51c6dd345f66\n",
    "[25] https://discuss.python.org/t/extracting-and-saving-an-email-pdf-attachment/33016"
   ],
   "metadata": {
    "collapsed": false
   },
   "id": "60b4cd4f300b4499"
  },
  {
   "cell_type": "markdown",
   "source": [
    "\n",
    "import imaplib\n",
    "import email\n",
    "from email.header import decode_header\n",
    "import re\n",
    "\n",
    "# учетные данные для входа в Gmail\n",
    "username = \"ormwish@gmail.com\"\n",
    "password = getpass.getpass(\"Password: \")\n",
    "\n",
    "# создаем экземпляр IMAP4_SSL класса\n",
    "mail = imaplib.IMAP4_SSL(\"imap.gmail.com\")\n",
    "\n",
    "# аутентификация\n",
    "mail.login(username, password)\n",
    "\n",
    "# выбираем почтовый ящик (в данном случае \"inbox\")\n",
    "mail.select(\"inbox\")\n",
    "\n",
    "# ищем письма (все непрочитанные письма)\n",
    "status, messages = mail.search(None, 'UNSEEN')\n",
    "\n",
    "# преобразуем messages в список ID писем\n",
    "messages = messages[0].split(b' ')\n",
    "\n",
    "# регулярное выражение для поиска URL\n",
    "url_pattern = re.compile(r'https?://\\S+')\n",
    "\n",
    "# проходимся по каждому письму\n",
    "for mail_id in messages:\n",
    "    # получаем данные письма\n",
    "    _, msg = mail.fetch(mail_id, '(RFC822)')\n",
    "\n",
    "    # парсим данные письма\n",
    "    for response in msg:\n",
    "        if isinstance(response, tuple):\n",
    "            # парсим байтовый объект письма\n",
    "            msg = email.message_from_bytes(response[1])\n",
    "            \n",
    "            # декодируем тему письма\n",
    "            subject, encoding = decode_header(msg[\"Subject\"])[0]\n",
    "            if isinstance(subject, bytes):\n",
    "                subject = subject.decode(encoding)\n",
    "            \n",
    "            # проверяем, содержит ли тема письма ключевое слово для коллбэка\n",
    "            if \"callback\" in subject.lower():\n",
    "                # если содержит, то извлекаем URL\n",
    "                if msg.is_multipart():\n",
    "                    for part in msg.walk():\n",
    "                        content_type = part.get_content_type()\n",
    "                        if content_type == \"text/html\":\n",
    "                            body = part.get_payload(decode=True).decode()\n",
    "                            # ищем URL в теле письма\n",
    "                            urls = url_pattern.findall(body)\n",
    "                            for url in urls:\n",
    "                                print(url)\n",
    "                else:\n",
    "                    # если письмо не состоит из нескольких частей\n",
    "                    content_type = msg.get_content_type()\n",
    "                    if content_type == \"text/html\":\n",
    "                        body = msg.get_payload(decode=True).decode()\n",
    "                        # ищем URL в теле письма\n",
    "                        urls = url_pattern.findall(body)\n",
    "                        for url in urls:\n",
    "                            print(url)\n",
    "\n",
    "# закрываем соединение и выходим\n",
    "mail.close()\n",
    "mail.logout()"
   ],
   "metadata": {
    "collapsed": false
   },
   "id": "9111b13a7ee15ca"
  },
  {
   "cell_type": "code",
   "outputs": [
    {
     "name": "stdout",
     "output_type": "stream",
     "text": [
      "Collecting simplegmail\r\n",
      "  Downloading simplegmail-4.1.1-py3-none-any.whl (19 kB)\r\n",
      "Requirement already satisfied: google-api-python-client>=1.7.3 in /Users/pv/.pyenv/versions/3.10.10/lib/python3.10/site-packages (from simplegmail) (2.90.0)\r\n",
      "Requirement already satisfied: beautifulsoup4>=4.0.0 in /Users/pv/.pyenv/versions/3.10.10/lib/python3.10/site-packages (from simplegmail) (4.12.2)\r\n",
      "Requirement already satisfied: python-dateutil>=2.8.1 in /Users/pv/.pyenv/versions/3.10.10/lib/python3.10/site-packages (from simplegmail) (2.8.2)\r\n",
      "Collecting oauth2client>=4.1.3 (from simplegmail)\r\n",
      "  Downloading oauth2client-4.1.3-py2.py3-none-any.whl (98 kB)\r\n",
      "\u001B[2K     \u001B[90m━━━━━━━━━━━━━━━━━━━━━━━━━━━━━━━━━━━━━━━\u001B[0m \u001B[32m98.2/98.2 kB\u001B[0m \u001B[31m542.2 kB/s\u001B[0m eta \u001B[36m0:00:00\u001B[0ma \u001B[36m0:00:01\u001B[0m\r\n",
      "\u001B[?25hRequirement already satisfied: lxml>=4.4.2 in /Users/pv/.pyenv/versions/3.10.10/lib/python3.10/site-packages (from simplegmail) (4.9.2)\r\n",
      "Requirement already satisfied: soupsieve>1.2 in /Users/pv/.pyenv/versions/3.10.10/lib/python3.10/site-packages (from beautifulsoup4>=4.0.0->simplegmail) (2.4.1)\r\n",
      "Requirement already satisfied: httplib2<1.dev0,>=0.15.0 in /Users/pv/.pyenv/versions/3.10.10/lib/python3.10/site-packages (from google-api-python-client>=1.7.3->simplegmail) (0.22.0)\r\n",
      "Requirement already satisfied: google-auth<3.0.0.dev0,>=1.19.0 in /Users/pv/.pyenv/versions/3.10.10/lib/python3.10/site-packages (from google-api-python-client>=1.7.3->simplegmail) (2.15.0)\r\n",
      "Requirement already satisfied: google-auth-httplib2>=0.1.0 in /Users/pv/.pyenv/versions/3.10.10/lib/python3.10/site-packages (from google-api-python-client>=1.7.3->simplegmail) (0.1.0)\r\n",
      "Requirement already satisfied: google-api-core!=2.0.*,!=2.1.*,!=2.2.*,!=2.3.0,<3.0.0.dev0,>=1.31.5 in /Users/pv/.pyenv/versions/3.10.10/lib/python3.10/site-packages (from google-api-python-client>=1.7.3->simplegmail) (2.11.1)\r\n",
      "Requirement already satisfied: uritemplate<5,>=3.0.1 in /Users/pv/.pyenv/versions/3.10.10/lib/python3.10/site-packages (from google-api-python-client>=1.7.3->simplegmail) (4.1.1)\r\n",
      "Requirement already satisfied: pyasn1>=0.1.7 in /Users/pv/.pyenv/versions/3.10.10/lib/python3.10/site-packages (from oauth2client>=4.1.3->simplegmail) (0.5.0)\r\n",
      "Requirement already satisfied: pyasn1-modules>=0.0.5 in /Users/pv/.pyenv/versions/3.10.10/lib/python3.10/site-packages (from oauth2client>=4.1.3->simplegmail) (0.3.0)\r\n",
      "Requirement already satisfied: rsa>=3.1.4 in /Users/pv/.pyenv/versions/3.10.10/lib/python3.10/site-packages (from oauth2client>=4.1.3->simplegmail) (4.9)\r\n",
      "Requirement already satisfied: six>=1.6.1 in /Users/pv/.pyenv/versions/3.10.10/lib/python3.10/site-packages (from oauth2client>=4.1.3->simplegmail) (1.16.0)\r\n",
      "Requirement already satisfied: googleapis-common-protos<2.0.dev0,>=1.56.2 in /Users/pv/.pyenv/versions/3.10.10/lib/python3.10/site-packages (from google-api-core!=2.0.*,!=2.1.*,!=2.2.*,!=2.3.0,<3.0.0.dev0,>=1.31.5->google-api-python-client>=1.7.3->simplegmail) (1.59.1)\r\n",
      "Requirement already satisfied: protobuf!=3.20.0,!=3.20.1,!=4.21.0,!=4.21.1,!=4.21.2,!=4.21.3,!=4.21.4,!=4.21.5,<5.0.0.dev0,>=3.19.5 in /Users/pv/.pyenv/versions/3.10.10/lib/python3.10/site-packages (from google-api-core!=2.0.*,!=2.1.*,!=2.2.*,!=2.3.0,<3.0.0.dev0,>=1.31.5->google-api-python-client>=1.7.3->simplegmail) (3.20.3)\r\n",
      "Requirement already satisfied: requests<3.0.0.dev0,>=2.18.0 in /Users/pv/.pyenv/versions/3.10.10/lib/python3.10/site-packages (from google-api-core!=2.0.*,!=2.1.*,!=2.2.*,!=2.3.0,<3.0.0.dev0,>=1.31.5->google-api-python-client>=1.7.3->simplegmail) (2.31.0)\r\n",
      "Requirement already satisfied: cachetools<6.0,>=2.0.0 in /Users/pv/.pyenv/versions/3.10.10/lib/python3.10/site-packages (from google-auth<3.0.0.dev0,>=1.19.0->google-api-python-client>=1.7.3->simplegmail) (5.3.1)\r\n",
      "Requirement already satisfied: pyparsing!=3.0.0,!=3.0.1,!=3.0.2,!=3.0.3,<4,>=2.4.2 in /Users/pv/.pyenv/versions/3.10.10/lib/python3.10/site-packages (from httplib2<1.dev0,>=0.15.0->google-api-python-client>=1.7.3->simplegmail) (3.1.0)\r\n",
      "Requirement already satisfied: charset-normalizer<4,>=2 in /Users/pv/.pyenv/versions/3.10.10/lib/python3.10/site-packages (from requests<3.0.0.dev0,>=2.18.0->google-api-core!=2.0.*,!=2.1.*,!=2.2.*,!=2.3.0,<3.0.0.dev0,>=1.31.5->google-api-python-client>=1.7.3->simplegmail) (3.1.0)\r\n",
      "Requirement already satisfied: idna<4,>=2.5 in /Users/pv/.pyenv/versions/3.10.10/lib/python3.10/site-packages (from requests<3.0.0.dev0,>=2.18.0->google-api-core!=2.0.*,!=2.1.*,!=2.2.*,!=2.3.0,<3.0.0.dev0,>=1.31.5->google-api-python-client>=1.7.3->simplegmail) (3.4)\r\n",
      "Requirement already satisfied: urllib3<3,>=1.21.1 in /Users/pv/.pyenv/versions/3.10.10/lib/python3.10/site-packages (from requests<3.0.0.dev0,>=2.18.0->google-api-core!=2.0.*,!=2.1.*,!=2.2.*,!=2.3.0,<3.0.0.dev0,>=1.31.5->google-api-python-client>=1.7.3->simplegmail) (1.26.16)\r\n",
      "Requirement already satisfied: certifi>=2017.4.17 in /Users/pv/.pyenv/versions/3.10.10/lib/python3.10/site-packages (from requests<3.0.0.dev0,>=2.18.0->google-api-core!=2.0.*,!=2.1.*,!=2.2.*,!=2.3.0,<3.0.0.dev0,>=1.31.5->google-api-python-client>=1.7.3->simplegmail) (2023.5.7)\r\n",
      "Installing collected packages: oauth2client, simplegmail\r\n",
      "Successfully installed oauth2client-4.1.3 simplegmail-4.1.1\r\n",
      "\r\n",
      "\u001B[1m[\u001B[0m\u001B[34;49mnotice\u001B[0m\u001B[1;39;49m]\u001B[0m\u001B[39;49m A new release of pip is available: \u001B[0m\u001B[31;49m23.2.1\u001B[0m\u001B[39;49m -> \u001B[0m\u001B[32;49m23.3.2\u001B[0m\r\n",
      "\u001B[1m[\u001B[0m\u001B[34;49mnotice\u001B[0m\u001B[1;39;49m]\u001B[0m\u001B[39;49m To update, run: \u001B[0m\u001B[32;49mpython3.10 -m pip install --upgrade pip\u001B[0m\r\n",
      "Note: you may need to restart the kernel to use updated packages.\n"
     ]
    }
   ],
   "source": [
    "%pip install simplegmail\n"
   ],
   "metadata": {
    "collapsed": false,
    "ExecuteTime": {
     "end_time": "2023-12-25T10:32:27.271820Z",
     "start_time": "2023-12-25T10:32:20.414764Z"
    }
   },
   "id": "cae4fcc805fff544",
   "execution_count": 8
  },
  {
   "cell_type": "code",
   "outputs": [],
   "source": [
    "\"\"\"\n",
    "This cell is to implement the GMAIL Client and function for extracting URLs from email body.\n",
    "\"\"\"\n",
    "from devtools import debug\n",
    "from simplegmail import Gmail\n",
    "import re\n",
    "GMAIL_CLIENT_SECRET = \"client_secret.json\"\n",
    "client: Gmail = Gmail(client_secret_file = GMAIL_CLIENT_SECRET)\n",
    "\n",
    "# Функция для поиска URL в тексте\n",
    "def extract_urls(data:str) -> list[str]:\n",
    "    # Регулярное выражение для поиска URL\n",
    "    regex = r\"https?://[^\\s]+\"\n",
    "    urls = re.findall(regex, data)\n",
    "    return urls\n",
    "\n",
    "# Получение всех писем от helpdesk.perplexity.ai\n",
    "messages = client.get_messages(query=\"from:helpdesk.perplexity.ai\")\n",
    "\n",
    "last_message = messages[0]\n",
    "urls = extract_urls(last_message.html)\n",
    "cburl = urls[2]\n",
    "print(cburl)"
   ],
   "metadata": {
    "collapsed": false,
    "ExecuteTime": {
     "end_time": "2023-12-29T16:11:15.396845Z",
     "start_time": "2023-12-29T16:11:07.422254Z"
    }
   },
   "id": "983c19d0fbc1c965",
   "execution_count": 31
  },
  {
   "cell_type": "code",
   "outputs": [
    {
     "name": "stdout",
     "output_type": "stream",
     "text": [
      "https://www.perplexity.ai/api/auth/callback/email?callbackUrl=https%3A%2F%2Fwww.perplexity.ai&amp;token=861d89f5ea3eec5bf30625047983140e1f7bb40567ac8c398a7dce8fbe74b07a&amp;email=ormwish%40gmail.com\"\n"
     ]
    }
   ],
   "source": [
    "print(cburl)"
   ],
   "metadata": {
    "collapsed": false,
    "ExecuteTime": {
     "end_time": "2023-12-29T16:14:03.994966Z",
     "start_time": "2023-12-29T16:14:03.984267Z"
    }
   },
   "id": "3081bc6edc56b673",
   "execution_count": 32
  },
  {
   "cell_type": "code",
   "outputs": [],
   "source": [],
   "metadata": {
    "collapsed": false
   },
   "id": "f168625586f330b2"
  },
  {
   "cell_type": "markdown",
   "source": [],
   "metadata": {
    "collapsed": false
   },
   "id": "37c7ef5d0d1adfb3"
  },
  {
   "cell_type": "markdown",
   "source": [
    ">Как показывает результат 32 ячейки -- ссылка на коллбек авторизации содержит в себе лишнюю кавычку. Надо её убрать.\n",
    "> ## Task\n",
    "> 1. Убрать лишнюю кавычку из ссылки на коллбек авторизации.\n",
    "> 2. Для этого нужно переработать функцию `extract_urls` так, чтобы она возвращала чистые URL без кавычек и прочего мусора."
   ],
   "metadata": {
    "collapsed": false
   },
   "id": "4eaeab4d2db56f2b"
  }
 ],
 "metadata": {
  "kernelspec": {
   "display_name": "Python 3",
   "language": "python",
   "name": "python3"
  },
  "language_info": {
   "codemirror_mode": {
    "name": "ipython",
    "version": 2
   },
   "file_extension": ".py",
   "mimetype": "text/x-python",
   "name": "python",
   "nbconvert_exporter": "python",
   "pygments_lexer": "ipython2",
   "version": "2.7.6"
  }
 },
 "nbformat": 4,
 "nbformat_minor": 5
}
