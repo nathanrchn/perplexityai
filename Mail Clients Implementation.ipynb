{
 "cells": [
  {
   "cell_type": "code",
   "outputs": [],
   "source": [
    "# README.md"
   ],
   "metadata": {
    "collapsed": false,
    "ExecuteTime": {
     "end_time": "2023-12-30T13:06:09.143050Z",
     "start_time": "2023-12-30T13:06:09.128989Z"
    }
   },
   "id": "e10204f958a61316",
   "execution_count": 7
  },
  {
   "cell_type": "markdown",
   "source": [
    "# Mail Client Library for Python\n",
    "\n",
    "This project aims to provide a simple and easy to use library for sending emails from Python. The project is still in an early stage, but it should be usable for most of the common use cases.\n",
    "\n",
    "Main idea is to provide a simple API for sending emails, but still allow for customization, if needed.\n",
    "Use factory methods to create instances of `MailClient` class. The factory methods are `MailClient.create_gmail_client` and `MailClient.create_smtp_client`. Also you can use `MailClient.create_client` method, which will create a client based on the provided configuration.\n",
    "\n",
    "**Structure:**\n",
    "- Abstract class `AbstractMailClient` defines the interface for sending, receiving, parsing, filtering, email and their grouping entities: inbox, thread, message with attachments. Specifies the base filters like unread, starred, etc.\n",
    "- `SimpleGmailClient` class implements the interface for sending emails using `simplegmail` package using credentials provided in form of `json` files.\n",
    "- `SMTPClient` class implements the interface for sending emails using SMTP protocol.\n",
    "- `ImapClient` class implements the interface for receiving emails using IMAP protocol.\n",
    "- `Pop3Client` class implements the interface for receiving emails using POP3 protocol.\n",
    "  \n",
    "**Project/Package Structure:**\n",
    "- `mail_client` - main package\n",
    "  - `mail_client.py` - contains `MailClient` class, which is the main class of the package\n",
    "  - `abstract_mail_client.py` - contains `AbstractMailClient` class, which defines the interface for sending, receiving, parsing, filtering, email and their grouping entities: inbox, thread, message with attachments. Specifies the base filters like unread, starred, etc.\n",
    "  - `simple_gmail_client.py` - contains `SimpleGmailClient` class, which implements the interface for sending emails using `simplegmail` package using credentials provided in form of `json` files.\n",
    "  - `smtp_client.py` - contains `SMTPClient` class, which implements the interface for sending emails using SMTP protocol.\n",
    "  - `imap_client.py` - contains `ImapClient` class, which implements the interface for receiving emails using IMAP protocol.\n",
    "  - `pop3_client.py` - contains `Pop3Client` class, which implements the interface for receiving emails using POP3 protocol.\n",
    "  - `exceptions.py` - contains custom exceptions\n",
    "  - `utils.py` - contains utility functions\n",
    "**Notebook methodology:**\n",
    "  - each client has its own cell with examples and tests for its methods\n",
    "  - every cell is registed in the Factory class which is the first code cell in the notebook. This allows for easy access to the cells and their execution and wiring of the cells in the notebook and cross notebooks."
   ],
   "metadata": {
    "collapsed": false
   },
   "id": "d04b12a6dce0b35a"
  },
  {
   "cell_type": "code",
   "outputs": [
    {
     "name": "stdout",
     "output_type": "stream",
     "text": [
      "\u001B[31mERROR: Could not find a version that satisfies the requirement simplegmailclient (from versions: none)\u001B[0m\u001B[31m\r\n",
      "\u001B[0m\u001B[31mERROR: No matching distribution found for simplegmailclient\u001B[0m\u001B[31m\r\n",
      "\u001B[0mNote: you may need to restart the kernel to use updated packages.\n"
     ]
    }
   ],
   "source": [
    "# Installation and Setup\n",
    "%pip install simplegmailclient"
   ],
   "metadata": {
    "collapsed": false,
    "ExecuteTime": {
     "end_time": "2023-12-30T13:06:11.051311Z",
     "start_time": "2023-12-30T13:06:09.150245Z"
    }
   },
   "id": "8ffd90277f4ac190",
   "execution_count": 8
  },
  {
   "cell_type": "code",
   "outputs": [
    {
     "name": "stdout",
     "output_type": "stream",
     "text": [
      "env: MAIL_CLIENT_WORKING_DIR=.\n",
      "env: MAIL_CLIENT_DATA_DIR=.\n",
      "env: MAIL_CLIENT_MODULE_NAME=mail_client\n",
      "env: MAIL_CLIENT_INTERFACE=MailClient\n",
      "env: MAIL_CLIENT_CLASS=SimpleGmailClient\n",
      "env: MAIL_CLIENT_CONFIG_FILE_PATH=mail_client_config.json\n",
      "env: MAIL_CLIENT_SECRET_FILE_PATH=mail_client_credentials.json\n",
      "env: MAIL_CLIENT_CREDENTIALS_FILE_PATH=mail_client_credentials.json\n"
     ]
    }
   ],
   "source": [
    "# Configuration Partials\n",
    "%env MAIL_CLIENT_WORKING_DIR=.\n",
    "%env MAIL_CLIENT_DATA_DIR=.\n",
    "%env MAIL_CLIENT_MODULE_NAME=mail_client\n",
    "%env MAIL_CLIENT_INTERFACE=MailClient\n",
    "%env MAIL_CLIENT_CLASS=SimpleGmailClient\n",
    "%env MAIL_CLIENT_CONFIG_FILE_PATH=mail_client_config.json\n",
    "%env MAIL_CLIENT_SECRET_FILE_PATH=mail_client_credentials.json\n",
    "%env MAIL_CLIENT_CREDENTIALS_FILE_PATH=mail_client_credentials.json\n"
   ],
   "metadata": {
    "collapsed": false,
    "ExecuteTime": {
     "end_time": "2023-12-30T13:06:11.057117Z",
     "start_time": "2023-12-30T13:06:11.052934Z"
    }
   },
   "id": "6f494acdd8a9b22e",
   "execution_count": 9
  },
  {
   "cell_type": "code",
   "outputs": [
    {
     "ename": "ModuleNotFoundError",
     "evalue": "No module named 'abc.ABCMeta'; 'abc' is not a package",
     "output_type": "error",
     "traceback": [
      "\u001B[0;31m---------------------------------------------------------------------------\u001B[0m",
      "\u001B[0;31mModuleNotFoundError\u001B[0m                       Traceback (most recent call last)",
      "Cell \u001B[0;32mIn[10], line 2\u001B[0m\n\u001B[1;32m      1\u001B[0m \u001B[38;5;28;01mfrom\u001B[39;00m \u001B[38;5;21;01mpathlib\u001B[39;00m \u001B[38;5;28;01mimport\u001B[39;00m Path\n\u001B[0;32m----> 2\u001B[0m \u001B[38;5;28;01mimport\u001B[39;00m \u001B[38;5;21;01mabc\u001B[39;00m\u001B[38;5;21;01m.\u001B[39;00m\u001B[38;5;21;01mABCMeta\u001B[39;00m\u001B[38;5;241m,\u001B[39m \u001B[38;5;21;01mtypes\u001B[39;00m\u001B[38;5;241m,\u001B[39m \u001B[38;5;21;01mABC\u001B[39;00m\n\u001B[1;32m      4\u001B[0m \u001B[38;5;28;01mclass\u001B[39;00m \u001B[38;5;21;01mAbstractMailClient\u001B[39;00m(ABC):\n\u001B[1;32m      5\u001B[0m \u001B[38;5;250m    \u001B[39m\u001B[38;5;124;03m\"\"\" Abstract class for mail client\"\"\"\u001B[39;00m\n",
      "\u001B[0;31mModuleNotFoundError\u001B[0m: No module named 'abc.ABCMeta'; 'abc' is not a package"
     ]
    }
   ],
   "source": [
    "from pathlib import Path\n",
    "import abc.ABCMeta, types, ABC\n",
    "\n",
    "class AbstractMailClient(ABC):\n",
    "    \"\"\" Abstract class for mail client\"\"\"\n",
    "    \n",
    "    \n",
    "    ...\n",
    "class MailClient(AbstractMailClient):\n",
    "    \"\"\" Main class for mail client\"\"\"\n",
    "    def __init__(self, **kwargs):\n",
    "        ...\n",
    "    @staticmethod\n",
    "    def create_client(**kwargs):\n",
    "        ...\n",
    "    @staticmethod\n",
    "    def create_gmail_client(**kwargs):\n",
    "        ...\n",
    "    @staticmethod\n",
    "    def create_smtp_client(**kwargs):\n",
    "        ...\n",
    "    @staticmethod\n",
    "    def create_imap_client(**kwargs):\n",
    "        ...\n",
    "    @staticmethod\n",
    "    def create_pop3_client(**kwargs):\n",
    "        ...\n",
    "    @staticmethod\n",
    "    def create_client_from_config(**kwargs):\n",
    "        ...\n",
    "    @staticmethod\n",
    "    def create_gmail_client_from_config(**kwargs):\n",
    "        ...\n",
    "    @staticmethod\n",
    "    def create_smtp_client_from_config(**kwargs):\n",
    "        ...\n",
    "    @staticmethod\n",
    "    def create_imap_client_from_config(**kwargs):\n",
    "        ...\n",
    "    @staticmethod\n",
    "    def create_pop3_client_from_config(**kwargs):\n",
    "        ...\n",
    "    ...\n",
    "class SimpleGmailClient(MailClient):\n",
    "    \"\"\" Simple Gmail client using simplegmail package. Takes credentials in form of json files\n",
    "    Implements a simple Gmail client with the following methods:\n",
    "    - send_message - sends an email message \n",
    "    - get_messages - returns all messages matching the optional filter\n",
    "    - get_inbox - returns all messages in the inbox\n",
    "    \n",
    "    Example:\n",
    "    ```python\n",
    "    ### *SendMessage, Invoke client from config file*\n",
    "    from mail_client import MailClient\n",
    "    class SimpleGmailClient(MailClient):\n",
    "        ...\n",
    "        \n",
    "    class GmailCredentials(object):\n",
    "        def __init__(self, credentials_file_path: Path, secret_file_path: Path):\n",
    "            self.credentials_file_path = credentials_file_path\n",
    "            self.secret_file_path = secret_file_path\n",
    "        def invoke(self):\n",
    "            client = MailClient.create_gmail_client(credentials_file_path=self.credentials_file_path, secret_file_path=self.secret_file_path)\n",
    "            client.send_message(...)\n",
    "            client.get_messages(query=\"from:helpdesk.perplexity.ai\")\n",
    "    mclient: SimpleGmailClient = MailClient.create_client_from_config(GmailCredentials(credentials_file_path='credentials.json', secret_file_path='secret.json'))   \n",
    "            \n",
    "    ### *GetMessages*  \n",
    "    client = MailClient.create_gmail_client(credentials_file_path='credentials.json', secret_file_path='secret.json')\n",
    "    client.send_message(...)\n",
    "    Get messages by filter (unread, starred, etc.):\n",
    "    from mail_client import MailClient\n",
    "    client = MailClient.create_gmail_client()\n",
    "    messages = client.get_messages(filter='unread')\n",
    "    Get all messages in the inbox:\n",
    "    from mail_client import MailClient\n",
    "    client = MailClient.create_gmail_client()\n",
    "    messages = client.get_inbox(name='inbox')\n",
    "    \n",
    "    ```\n",
    "    \"\"\"\n",
    "    engine = 'simplegmail.Gmail'\n",
    "    working_dir: Path = \".\"\n",
    "    credentials_file_path: Path = working_dir / \"credentials.json\"\n",
    "    secret_file_path: Path = working_dir / \"secret.json\"\n",
    "    \n",
    "    def __init__(self, **kwargs):\n",
    "        super().__init__(**kwargs)\n",
    "        self._engine = 'simplegmail.Gmail'\n",
    "        self._client = None\n",
    "        self._credentials_file_path = kwargs.get('credentials_file_path', None)\n",
    "        self._secret_file_path = kwargs.get('secret_file_path', None)\n",
    "        self._email = kwargs.get('email', None)\n",
    "        self._email_address = kwargs.get('email_address', None)\n",
    "        self._email_address_name = kwargs.get('email_address_name', None)\n",
    "        self._name = kwargs.get('name', None)\n",
    "        self._client = self._create_client()\n",
    "    def _create_client(self):\n",
    "        if self._client is None:\n",
    "            self._client = self._create_client_from_config()\n",
    "        return self._client\n",
    "    def _create_client_from_config(self):\n",
    "        if self._client is None:\n",
    "            self._client = self.create_client_from_config(credentials_file_path=self._credentials_file_path, secret_file_path=self._secret_file_path)\n",
    "        return self._client\n",
    "    @staticmethod\n",
    "    def create_client(**kwargs):\n",
    "        client = SimpleGmailClient(**kwargs)\n",
    "        return client\n",
    "    def _get_messages(self, **kwargs):\n",
    "        messages = self._client.get_messages(**kwargs)\n",
    "        return messages\n",
    "    def _get_inbox(self, **kwargs):\n",
    "        messages = self._client.get_inbox(**kwargs)\n",
    "        return messages\n",
    "    \n",
    "    def __init__(self, **kwargs):\n",
    "        super().__init__(**kwargs)\n",
    "        self._engine = 'simplegmail.Gmail'\n",
    "        self._client = None\n",
    "        self._credentials_file_path = kwargs.get('credentials_file_path', None)\n",
    "        self._secret_file_path = kwargs.get('secret_file_path', None)\n",
    "        self._email = kwargs.get('email', None)\n",
    "        self._email_address = kwargs.get('email_address', None)\n",
    "        self._email_address_name = kwargs.get('email_address_name', None)\n",
    "        self._name = kwargs.get('name', None)\n",
    "        self._client = self._create_client()\n",
    "\n",
    "    \n",
    "\n",
    "    \n",
    "    "
   ],
   "metadata": {
    "collapsed": false,
    "ExecuteTime": {
     "end_time": "2023-12-30T13:06:11.088655Z",
     "start_time": "2023-12-30T13:06:11.064775Z"
    }
   },
   "id": "a7bfbd35d9930ea8",
   "execution_count": 10
  },
  {
   "cell_type": "markdown",
   "source": [],
   "metadata": {
    "collapsed": false
   },
   "id": "6131412acc989d61"
  },
  {
   "cell_type": "code",
   "outputs": [],
   "source": [
    "# Factory.py"
   ],
   "metadata": {
    "collapsed": false,
    "ExecuteTime": {
     "start_time": "2023-12-30T13:06:11.083397Z"
    }
   },
   "id": "8ded1095dfc4149c"
  },
  {
   "cell_type": "markdown",
   "source": [
    "import importlib\n",
    "import os\n",
    "import sys\n",
    "from typing import List, Dict, Tuple, Callable, Any, Union, Optional\n",
    "import inspect, abc, ABCMeta, types\n",
    "class NotebookHelper(object):\n",
    "    cells: Dict[str, Callable] = {}\n",
    "    @staticmethod\n",
    "    def register_cell(name: str, cell: Callable):\n",
    "        NotebookHelper.cells[name] = cell\n",
    "    @staticmethod\n",
    "    def get_cell(name: str) -> Callable:\n",
    "        return NotebookHelper.cells[name]\n",
    "    @staticmethod\n",
    "    def get_cells(self) -> Dict[str, Callable]:\n",
    "        return NotebookHelper.cells\n",
    "    @staticmethod\n",
    "    def get_all_cells() -> List[Callable]:\n",
    "        return list(NotebookHelper.cells.values())\n",
    "    @staticmethod\n",
    "    def execute_cell(name: str):\n",
    "        NotebookHelper.cells[name]()\n",
    "    @staticmethod\n",
    "    def execute_all_cells():\n",
    "        for cell in NotebookHelper.get_all_cells():\n",
    "            cell()\n",
    "    @staticmethod\n",
    "    def create_notebook_cell(name: str, cell: Callable):\n",
    "        NotebookHelper.register_cell(name, cell)\n",
    "        return cell\n",
    "    "
   ],
   "metadata": {
    "collapsed": false
   },
   "id": "b58cc1e498543aed"
  },
  {
   "cell_type": "code",
   "outputs": [
    {
     "name": "stderr",
     "output_type": "stream",
     "text": [
      "/Users/pv/Documents/zbst.tech/perplexityai/.venv/lib/python3.10/site-packages/oauth2client/_helpers.py:255: UserWarning: Cannot access secret_file_path: No such file or directory\n",
      "  warnings.warn(_MISSING_FILE_MESSAGE.format(filename))\n"
     ]
    },
    {
     "ename": "FileNotFoundError",
     "evalue": "Your 'client_secret.json' file is nonexistent. Make sure the file is in the root directory of your application. If you don't have a client secrets file, go to https://developers.google.com/gmail/api/quickstart/python, and follow the instructions listed there.",
     "output_type": "error",
     "traceback": [
      "\u001B[0;31m---------------------------------------------------------------------------\u001B[0m",
      "\u001B[0;31mFileNotFoundError\u001B[0m                         Traceback (most recent call last)",
      "File \u001B[0;32m~/Documents/zbst.tech/perplexityai/.venv/lib/python3.10/site-packages/oauth2client/clientsecrets.py:121\u001B[0m, in \u001B[0;36m_loadfile\u001B[0;34m(filename)\u001B[0m\n\u001B[1;32m    120\u001B[0m \u001B[38;5;28;01mtry\u001B[39;00m:\n\u001B[0;32m--> 121\u001B[0m     \u001B[38;5;28;01mwith\u001B[39;00m \u001B[38;5;28;43mopen\u001B[39;49m\u001B[43m(\u001B[49m\u001B[43mfilename\u001B[49m\u001B[43m,\u001B[49m\u001B[43m \u001B[49m\u001B[38;5;124;43m'\u001B[39;49m\u001B[38;5;124;43mr\u001B[39;49m\u001B[38;5;124;43m'\u001B[39;49m\u001B[43m)\u001B[49m \u001B[38;5;28;01mas\u001B[39;00m fp:\n\u001B[1;32m    122\u001B[0m         obj \u001B[38;5;241m=\u001B[39m json\u001B[38;5;241m.\u001B[39mload(fp)\n",
      "\u001B[0;31mFileNotFoundError\u001B[0m: [Errno 2] No such file or directory: 'credentials_file_path'",
      "\nDuring handling of the above exception, another exception occurred:\n",
      "\u001B[0;31mInvalidClientSecretsError\u001B[0m                 Traceback (most recent call last)",
      "File \u001B[0;32m~/Documents/zbst.tech/perplexityai/.venv/lib/python3.10/site-packages/simplegmail/gmail.py:87\u001B[0m, in \u001B[0;36mGmail.__init__\u001B[0;34m(self, client_secret_file, creds_file, access_type, noauth_local_webserver, _creds)\u001B[0m\n\u001B[1;32m     86\u001B[0m \u001B[38;5;28;01mif\u001B[39;00m \u001B[38;5;129;01mnot\u001B[39;00m \u001B[38;5;28mself\u001B[39m\u001B[38;5;241m.\u001B[39mcreds \u001B[38;5;129;01mor\u001B[39;00m \u001B[38;5;28mself\u001B[39m\u001B[38;5;241m.\u001B[39mcreds\u001B[38;5;241m.\u001B[39minvalid:\n\u001B[0;32m---> 87\u001B[0m     flow \u001B[38;5;241m=\u001B[39m \u001B[43mclient\u001B[49m\u001B[38;5;241;43m.\u001B[39;49m\u001B[43mflow_from_clientsecrets\u001B[49m\u001B[43m(\u001B[49m\n\u001B[1;32m     88\u001B[0m \u001B[43m        \u001B[49m\u001B[38;5;28;43mself\u001B[39;49m\u001B[38;5;241;43m.\u001B[39;49m\u001B[43mclient_secret_file\u001B[49m\u001B[43m,\u001B[49m\u001B[43m \u001B[49m\u001B[38;5;28;43mself\u001B[39;49m\u001B[38;5;241;43m.\u001B[39;49m\u001B[43m_SCOPES\u001B[49m\n\u001B[1;32m     89\u001B[0m \u001B[43m    \u001B[49m\u001B[43m)\u001B[49m\n\u001B[1;32m     91\u001B[0m     flow\u001B[38;5;241m.\u001B[39mparams[\u001B[38;5;124m'\u001B[39m\u001B[38;5;124maccess_type\u001B[39m\u001B[38;5;124m'\u001B[39m] \u001B[38;5;241m=\u001B[39m access_type\n",
      "File \u001B[0;32m~/Documents/zbst.tech/perplexityai/.venv/lib/python3.10/site-packages/oauth2client/_helpers.py:133\u001B[0m, in \u001B[0;36mpositional.<locals>.positional_decorator.<locals>.positional_wrapper\u001B[0;34m(*args, **kwargs)\u001B[0m\n\u001B[1;32m    132\u001B[0m         logger\u001B[38;5;241m.\u001B[39mwarning(message)\n\u001B[0;32m--> 133\u001B[0m \u001B[38;5;28;01mreturn\u001B[39;00m \u001B[43mwrapped\u001B[49m\u001B[43m(\u001B[49m\u001B[38;5;241;43m*\u001B[39;49m\u001B[43margs\u001B[49m\u001B[43m,\u001B[49m\u001B[43m \u001B[49m\u001B[38;5;241;43m*\u001B[39;49m\u001B[38;5;241;43m*\u001B[39;49m\u001B[43mkwargs\u001B[49m\u001B[43m)\u001B[49m\n",
      "File \u001B[0;32m~/Documents/zbst.tech/perplexityai/.venv/lib/python3.10/site-packages/oauth2client/client.py:2134\u001B[0m, in \u001B[0;36mflow_from_clientsecrets\u001B[0;34m(filename, scope, redirect_uri, message, cache, login_hint, device_uri, pkce, code_verifier, prompt)\u001B[0m\n\u001B[1;32m   2133\u001B[0m \u001B[38;5;28;01mtry\u001B[39;00m:\n\u001B[0;32m-> 2134\u001B[0m     client_type, client_info \u001B[38;5;241m=\u001B[39m \u001B[43mclientsecrets\u001B[49m\u001B[38;5;241;43m.\u001B[39;49m\u001B[43mloadfile\u001B[49m\u001B[43m(\u001B[49m\u001B[43mfilename\u001B[49m\u001B[43m,\u001B[49m\n\u001B[1;32m   2135\u001B[0m \u001B[43m                                                      \u001B[49m\u001B[43mcache\u001B[49m\u001B[38;5;241;43m=\u001B[39;49m\u001B[43mcache\u001B[49m\u001B[43m)\u001B[49m\n\u001B[1;32m   2136\u001B[0m     \u001B[38;5;28;01mif\u001B[39;00m client_type \u001B[38;5;129;01min\u001B[39;00m (clientsecrets\u001B[38;5;241m.\u001B[39mTYPE_WEB,\n\u001B[1;32m   2137\u001B[0m                        clientsecrets\u001B[38;5;241m.\u001B[39mTYPE_INSTALLED):\n",
      "File \u001B[0;32m~/Documents/zbst.tech/perplexityai/.venv/lib/python3.10/site-packages/oauth2client/clientsecrets.py:165\u001B[0m, in \u001B[0;36mloadfile\u001B[0;34m(filename, cache)\u001B[0m\n\u001B[1;32m    164\u001B[0m \u001B[38;5;28;01mif\u001B[39;00m \u001B[38;5;129;01mnot\u001B[39;00m cache:\n\u001B[0;32m--> 165\u001B[0m     \u001B[38;5;28;01mreturn\u001B[39;00m \u001B[43m_loadfile\u001B[49m\u001B[43m(\u001B[49m\u001B[43mfilename\u001B[49m\u001B[43m)\u001B[49m\n\u001B[1;32m    167\u001B[0m obj \u001B[38;5;241m=\u001B[39m cache\u001B[38;5;241m.\u001B[39mget(filename, namespace\u001B[38;5;241m=\u001B[39m_SECRET_NAMESPACE)\n",
      "File \u001B[0;32m~/Documents/zbst.tech/perplexityai/.venv/lib/python3.10/site-packages/oauth2client/clientsecrets.py:124\u001B[0m, in \u001B[0;36m_loadfile\u001B[0;34m(filename)\u001B[0m\n\u001B[1;32m    123\u001B[0m \u001B[38;5;28;01mexcept\u001B[39;00m \u001B[38;5;167;01mIOError\u001B[39;00m \u001B[38;5;28;01mas\u001B[39;00m exc:\n\u001B[0;32m--> 124\u001B[0m     \u001B[38;5;28;01mraise\u001B[39;00m InvalidClientSecretsError(\u001B[38;5;124m'\u001B[39m\u001B[38;5;124mError opening file\u001B[39m\u001B[38;5;124m'\u001B[39m, exc\u001B[38;5;241m.\u001B[39mfilename,\n\u001B[1;32m    125\u001B[0m                                     exc\u001B[38;5;241m.\u001B[39mstrerror, exc\u001B[38;5;241m.\u001B[39merrno)\n\u001B[1;32m    126\u001B[0m \u001B[38;5;28;01mreturn\u001B[39;00m _validate_clientsecrets(obj)\n",
      "\u001B[0;31mInvalidClientSecretsError\u001B[0m: ('Error opening file', 'credentials_file_path', 'No such file or directory', 2)",
      "\nDuring handling of the above exception, another exception occurred:\n",
      "\u001B[0;31mFileNotFoundError\u001B[0m                         Traceback (most recent call last)",
      "Cell \u001B[0;32mIn[12], line 54\u001B[0m\n\u001B[1;32m     49\u001B[0m     f\u001B[38;5;241m.\u001B[39mwrite(credentials_contents)\n\u001B[1;32m     51\u001B[0m credentials \u001B[38;5;241m=\u001B[39m {\n\u001B[1;32m     52\u001B[0m     \u001B[38;5;124m'\u001B[39m\u001B[38;5;124mcredentials_file_path\u001B[39m\u001B[38;5;124m'\u001B[39m: \u001B[38;5;124m'\u001B[39m\u001B[38;5;124mcredentials.json\u001B[39m\u001B[38;5;124m'\u001B[39m,\n\u001B[1;32m     53\u001B[0m     \u001B[38;5;124m'\u001B[39m\u001B[38;5;124msecret_file_path\u001B[39m\u001B[38;5;124m'\u001B[39m: \u001B[38;5;124m'\u001B[39m\u001B[38;5;124mclient_secret.json\u001B[39m\u001B[38;5;124m'\u001B[39m}\n\u001B[0;32m---> 54\u001B[0m client \u001B[38;5;241m=\u001B[39m \u001B[43mclient_factory\u001B[49m\u001B[43m(\u001B[49m\u001B[38;5;124;43m'\u001B[39;49m\u001B[38;5;124;43mgmail\u001B[39;49m\u001B[38;5;124;43m'\u001B[39;49m\u001B[43m,\u001B[49m\u001B[43m \u001B[49m\u001B[43mcredentials\u001B[49m\u001B[43m)\u001B[49m\n\u001B[1;32m     55\u001B[0m messages \u001B[38;5;241m=\u001B[39m client\u001B[38;5;241m.\u001B[39mget_messages(\u001B[38;5;28mfilter\u001B[39m\u001B[38;5;241m=\u001B[39m\u001B[38;5;124m'\u001B[39m\u001B[38;5;124mfrom:helpdesk.perplexity.ai\u001B[39m\u001B[38;5;124m'\u001B[39m)\n\u001B[1;32m     56\u001B[0m \u001B[38;5;28mprint\u001B[39m(messages)\n",
      "Cell \u001B[0;32mIn[12], line 40\u001B[0m, in \u001B[0;36mclient_factory\u001B[0;34m(client_type, credentials, **kwargs)\u001B[0m\n\u001B[1;32m     38\u001B[0m     \u001B[38;5;28;01mif\u001B[39;00m credentials \u001B[38;5;129;01mis\u001B[39;00m \u001B[38;5;28;01mNone\u001B[39;00m:\n\u001B[1;32m     39\u001B[0m         \u001B[38;5;28;01mreturn\u001B[39;00m SimpleGmailClient(Gmail())\n\u001B[0;32m---> 40\u001B[0m     \u001B[38;5;28;01melse\u001B[39;00m: \u001B[38;5;28;01mreturn\u001B[39;00m SimpleGmailClient(\u001B[43mGmail\u001B[49m\u001B[43m(\u001B[49m\u001B[38;5;241;43m*\u001B[39;49m\u001B[43mcredentials\u001B[49m\u001B[43m)\u001B[49m)\n\u001B[1;32m     41\u001B[0m \u001B[38;5;28;01melse\u001B[39;00m:\n\u001B[1;32m     42\u001B[0m     \u001B[38;5;28;01mraise\u001B[39;00m \u001B[38;5;167;01mValueError\u001B[39;00m(\u001B[38;5;124m\"\u001B[39m\u001B[38;5;124mInvalid client type\u001B[39m\u001B[38;5;124m\"\u001B[39m)\n",
      "File \u001B[0;32m~/Documents/zbst.tech/perplexityai/.venv/lib/python3.10/site-packages/simplegmail/gmail.py:107\u001B[0m, in \u001B[0;36mGmail.__init__\u001B[0;34m(self, client_secret_file, creds_file, access_type, noauth_local_webserver, _creds)\u001B[0m\n\u001B[1;32m    101\u001B[0m     \u001B[38;5;28mself\u001B[39m\u001B[38;5;241m.\u001B[39m_service \u001B[38;5;241m=\u001B[39m build(\n\u001B[1;32m    102\u001B[0m         \u001B[38;5;124m'\u001B[39m\u001B[38;5;124mgmail\u001B[39m\u001B[38;5;124m'\u001B[39m, \u001B[38;5;124m'\u001B[39m\u001B[38;5;124mv1\u001B[39m\u001B[38;5;124m'\u001B[39m, http\u001B[38;5;241m=\u001B[39m\u001B[38;5;28mself\u001B[39m\u001B[38;5;241m.\u001B[39mcreds\u001B[38;5;241m.\u001B[39mauthorize(Http()),\n\u001B[1;32m    103\u001B[0m         cache_discovery\u001B[38;5;241m=\u001B[39m\u001B[38;5;28;01mFalse\u001B[39;00m\n\u001B[1;32m    104\u001B[0m     )\n\u001B[1;32m    106\u001B[0m \u001B[38;5;28;01mexcept\u001B[39;00m InvalidClientSecretsError:\n\u001B[0;32m--> 107\u001B[0m     \u001B[38;5;28;01mraise\u001B[39;00m \u001B[38;5;167;01mFileNotFoundError\u001B[39;00m(\n\u001B[1;32m    108\u001B[0m         \u001B[38;5;124m\"\u001B[39m\u001B[38;5;124mYour \u001B[39m\u001B[38;5;124m'\u001B[39m\u001B[38;5;124mclient_secret.json\u001B[39m\u001B[38;5;124m'\u001B[39m\u001B[38;5;124m file is nonexistent. Make sure \u001B[39m\u001B[38;5;124m\"\u001B[39m\n\u001B[1;32m    109\u001B[0m         \u001B[38;5;124m\"\u001B[39m\u001B[38;5;124mthe file is in the root directory of your application. If \u001B[39m\u001B[38;5;124m\"\u001B[39m\n\u001B[1;32m    110\u001B[0m         \u001B[38;5;124m\"\u001B[39m\u001B[38;5;124myou don\u001B[39m\u001B[38;5;124m'\u001B[39m\u001B[38;5;124mt have a client secrets file, go to https://\u001B[39m\u001B[38;5;124m\"\u001B[39m\n\u001B[1;32m    111\u001B[0m         \u001B[38;5;124m\"\u001B[39m\u001B[38;5;124mdevelopers.google.com/gmail/api/quickstart/python, and \u001B[39m\u001B[38;5;124m\"\u001B[39m\n\u001B[1;32m    112\u001B[0m         \u001B[38;5;124m\"\u001B[39m\u001B[38;5;124mfollow the instructions listed there.\u001B[39m\u001B[38;5;124m\"\u001B[39m\n\u001B[1;32m    113\u001B[0m     )\n",
      "\u001B[0;31mFileNotFoundError\u001B[0m: Your 'client_secret.json' file is nonexistent. Make sure the file is in the root directory of your application. If you don't have a client secrets file, go to https://developers.google.com/gmail/api/quickstart/python, and follow the instructions listed there."
     ]
    }
   ],
   "source": [
    "from abc import ABC, abstractmethod\n",
    "from simplegmail import Gmail\n",
    "from simplegmail.message import Message\n",
    "from simplegmail.attachment import Attachment\n",
    "\n",
    "class MailClient(ABC):\n",
    "    \"\"\"Abstract Mail Client Class\"\"\"\n",
    "    \n",
    "    @abstractmethod\n",
    "    def send_message(self, message):\n",
    "        pass\n",
    "\n",
    "    @abstractmethod\n",
    "    def get_messages(self, **kwargs):\n",
    "        pass\n",
    "    \n",
    "\n",
    "class SimpleGmailClient(MailClient):\n",
    "    \"\"\"Gmail Client Implementation using `simplegmail`\"\"\"\n",
    "    \n",
    "    def __init__(self, client):\n",
    "        self.client = client\n",
    "\n",
    "    def send_message(self, message):\n",
    "        # Implementation of sending message using `simplegmail`\n",
    "        pass\n",
    "\n",
    "    def get_messages(self, filter: str = None, **kwargs) -> list[Message]:\n",
    "        \"\"\"Get messages from Gmail inbox with optional filter like from:email, to:email, etc.\"\"\"\n",
    "        # Implementation of receiving message using `simplegmail`\n",
    "        _ = self.client.get_messages(filter, **kwargs)\n",
    "        return _\n",
    "\n",
    "def client_factory(client_type, credentials: dict = None, **kwargs) -> MailClient:\n",
    "    \"\"\"Factory function to create mail clients\"\"\"\n",
    "    \n",
    "    if client_type == 'gmail':\n",
    "        if credentials is None:\n",
    "            return SimpleGmailClient(Gmail())\n",
    "        else: return SimpleGmailClient(Gmail(*credentials))\n",
    "    else:\n",
    "        raise ValueError(\"Invalid client type\")\n",
    "if __name__ == '__main__':\n",
    "    secret_contents = '{\"installed\":{\"client_id\":\"543382583890-fktcl5fttumda3ph3ts4lio61ug2e3vv.apps.googleusercontent.com\",\"project_id\":\"absolute-origin-378108\",\"auth_uri\":\"https://accounts.google.com/o/oauth2/auth\",\"token_uri\":\"https://oauth2.googleapis.com/token\",\"auth_provider_x509_cert_url\":\"https://www.googleapis.com/oauth2/v1/certs\",\"client_secret\":\"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\",\"redirect_uris\":[\"http://localhost\"]}}'\n",
    "    credentials_contents = '{\"access_token\": \"ya29.a0AfB_byDbRoIHYM8ca14ui9kp3MLebOwuVclhv0iO7nblAGnGBAeaI36e5zlEG4BG_hZRfJ30qreXSfSRY3HBsPffCqg-VKY-37q_uWpf7dHlbgBlClb4jzGjyUasZiiCYCE6LhIMd04cj-xMTS3QyhAnG5iZo9CTqA-E5waCgYKAZcSARESFQHGX2MiaQ39FNj-T1ussLXoosXckQ0173\", \"client_id\": \"543382583890-fktcl5fttumda3ph3ts4lio61ug2e3vv.apps.googleusercontent.com\", \"client_secret\": \"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\", \"refresh_token\": \"1//05_8a7sKw86sZCgYIARAAGAUSNwF-L9IrnbU_BYRqP9w3GWSOIgYkf6cGkhIFvdfmS_-unp-65cvo_baFcZKtz2WFsJeexcrBKwg\", \"token_expiry\": \"2023-12-29T20:43:36Z\", \"token_uri\": \"https://oauth2.googleapis.com/token\", \"user_agent\": null, \"revoke_uri\": \"https://oauth2.googleapis.com/revoke\", \"id_token\": null, \"id_token_jwt\": null, \"token_response\": {\"access_token\": \"ya29.a0AfB_byDbRoIHYM8ca14ui9kp3MLebOwuVclhv0iO7nblAGnGBAeaI36e5zlEG4BG_hZRfJ30qreXSfSRY3HBsPffCqg-VKY-37q_uWpf7dHlbgBlClb4jzGjyUasZiiCYCE6LhIMd04cj-xMTS3QyhAnG5iZo9CTqA-E5waCgYKAZcSARESFQHGX2MiaQ39FNj-T1ussLXoosXckQ0173\", \"expires_in\": 3599, \"scope\": \"https://www.googleapis.com/auth/gmail.settings.basic https://www.googleapis.com/auth/gmail.modify\", \"token_type\": \"Bearer\"}, \"scopes\": [\"https://www.googleapis.com/auth/gmail.modify\", \"https://www.googleapis.com/auth/gmail.settings.basic\"], \"token_info_uri\": \"https://oauth2.googleapis.com/tokeninfo\", \"invalid\": false, \"_class\": \"OAuth2Credentials\", \"_module\": \"oauth2client.client\"}'\n",
    "    with open('./client_secret.json', 'w') as f:\n",
    "        f.write(secret_contents)\n",
    "    with open('./credentials.json', 'w') as f:\n",
    "        f.write(credentials_contents)\n",
    "        \n",
    "    credentials = {\n",
    "        'credentials_file_path': 'credentials.json',\n",
    "        'secret_file_path': 'client_secret.json'}\n",
    "    client = client_factory('gmail', credentials)\n",
    "    messages = client.get_messages(filter='from:helpdesk.perplexity.ai')\n",
    "    print(messages)"
   ],
   "metadata": {
    "collapsed": false,
    "ExecuteTime": {
     "end_time": "2023-12-30T13:08:06.476297Z",
     "start_time": "2023-12-30T13:08:06.391268Z"
    }
   },
   "id": "f7a7ec4d3dbfb0d2",
   "execution_count": 12
  },
  {
   "cell_type": "code",
   "outputs": [
    {
     "ename": "IndentationError",
     "evalue": "expected an indented block after function definition on line 16 (utils.py, line 16)",
     "output_type": "error",
     "traceback": [
      "Traceback \u001B[0;36m(most recent call last)\u001B[0m:\n",
      "\u001B[0m  File \u001B[1;32m~/Documents/zbst.tech/perplexityai/.venv/lib/python3.10/site-packages/IPython/core/interactiveshell.py:3553\u001B[0m in \u001B[1;35mrun_code\u001B[0m\n    exec(code_obj, self.user_global_ns, self.user_ns)\u001B[0m\n",
      "\u001B[0m  Cell \u001B[1;32mIn[2], line 6\u001B[0m\n    from perplexity import Perplexity\u001B[0m\n",
      "\u001B[0;36m  File \u001B[0;32m~/Documents/zbst.tech/perplexityai/perplexity/__init__.py:3\u001B[0;36m\n\u001B[0;31m    from .utils import *\u001B[0;36m\n",
      "\u001B[0;36m  File \u001B[0;32m~/Documents/zbst.tech/perplexityai/perplexity/utils.py:16\u001B[0;36m\u001B[0m\n\u001B[0;31m    def __init__(self, mail_command: str):\u001B[0m\n\u001B[0m                                          ^\u001B[0m\n\u001B[0;31mIndentationError\u001B[0m\u001B[0;31m:\u001B[0m expected an indented block after function definition on line 16\n"
     ]
    }
   ],
   "source": [
    "import json\n",
    "import requests\n",
    "import requests_oauthlib\n",
    "from requests_oauthlib import OAuth2\n",
    "from requests_oauthlib.oauth2_session import OAuth2Session\n",
    "from perplexity import Perplexity\n",
    "USER_AGENT = \"Ask/2.4.1/224 (iOS; iPhone; Version 17.1) isiOSOnMac/false\"\n",
    "X_CLIENT_NAME = \"Perplexity-iOS\"\n",
    "PPLX_PRO_SESSION={\n",
    "    \"ormwish@gmail.com\": {\n",
    "        \"__cf_bm\": \"KUKzykfqXRH8NQ3dgSEYkdEEUGtnwLJ3VfVWo2mb.6M-1703866466-1-Ad08roLUpt+pxD+cj93Fwk5OqJL/6Uxg9smnh+jcEvnQevH3KvzOZUcVYD1VXIbZDF72NR9E6FvGRe/+E7URPng=\", \"AWSALB\": \"5moWd7YeazMK4ESR3u5JbbQSM1axN+qOOuLsluSdEh/F11ZOuCZrk70xliNVwiBALKLSoDMCzYR3A2CkVANjlmmGU71lXAI9bg0mARTlJabMPYsvYE8HEkvnv5gx\", \"AWSALBCORS\": \"5moWd7YeazMK4ESR3u5JbbQSM1axN+qOOuLsluSdEh/F11ZOuCZrk70xliNVwiBALKLSoDMCzYR3A2CkVANjlmmGU71lXAI9bg0mARTlJabMPYsvYE8HEkvnv5gx\",\n",
    "        \"__Secure-next-auth.callback-url\": \"https%3A%2F%2Fwww.perplexity.ai%2Fapi%2Fauth%2Fsignin-callback%3Fredirect%3Dhttps%253A%252F%252Fwww.perplexity.ai\", \n",
    "        \"__cflb\": \"02DiuDyvFMmK5p9jVbWbam6CcSLCt41haN4sV1nYVegLL\", \n",
    "        \"next-auth.csrf-token\": \"eb01a25093ca02601a5d4579510fef45c35eb76f1cb63ad02fd08607da169632%7C0fdaca48bd5c542087a3eea29804c7e572126d2e079fd7e3fd4274b896cc2f77\"}}\n",
    "# peprlexity.ai AUTH uris\n",
    "singin_email_uri=\"https://www.perplexity.ai/api/auth/signin-email\"\n",
    "singin_token_uri=\"https://www.perplexity.ai/api/auth/signin-token\"\n",
    "\n",
    "session = requests.Session()\n",
    "session.cookies.update(PPLX_PRO_SESSION[\"ormwish@gmail.com\"])\n",
    "session.headers.update(\n",
    "    {'User-Agent': USER_AGENT, \n",
    "     'X-Client-Name': X_CLIENT_NAME}\n",
    ")\n",
    "\n",
    "with open(\".perplexity_session\", \"w\") as f:\n",
    "    f.write(json.dumps(PPLX_PRO_SESSION))\n",
    "\n",
    "perplexity = Perplexity()\n",
    "perplexity.search(\"How to deal with lamers?\")"
   ],
   "metadata": {
    "collapsed": false,
    "ExecuteTime": {
     "end_time": "2023-12-30T20:49:09.435671Z",
     "start_time": "2023-12-30T20:49:09.422604Z"
    }
   },
   "id": "5e72ef5e9433f000",
   "execution_count": 2
  },
  {
   "cell_type": "code",
   "outputs": [],
   "source": [],
   "metadata": {
    "collapsed": false
   },
   "id": "77b72856739092e5"
  }
 ],
 "metadata": {
  "kernelspec": {
   "display_name": "Python 3",
   "language": "python",
   "name": "python3"
  },
  "language_info": {
   "codemirror_mode": {
    "name": "ipython",
    "version": 2
   },
   "file_extension": ".py",
   "mimetype": "text/x-python",
   "name": "python",
   "nbconvert_exporter": "python",
   "pygments_lexer": "ipython2",
   "version": "2.7.6"
  }
 },
 "nbformat": 4,
 "nbformat_minor": 5
}
